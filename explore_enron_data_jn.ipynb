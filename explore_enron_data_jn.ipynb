{
 "cells": [
  {
   "cell_type": "code",
   "execution_count": 1,
   "metadata": {
    "collapsed": true
   },
   "outputs": [],
   "source": [
    "#!/usr/bin/python\n",
    "\n",
    "\"\"\" \n",
    "    Starter code for exploring the Enron dataset (emails + finances);\n",
    "    loads up the dataset (pickled dict of dicts).\n",
    "\n",
    "    The dataset has the form:\n",
    "    enron_data[\"LASTNAME FIRSTNAME MIDDLEINITIAL\"] = { features_dict }\n",
    "\n",
    "    {features_dict} is a dictionary of features associated with that person.\n",
    "    You should explore features_dict as part of the mini-project,\n",
    "    but here's an example to get you started:\n",
    "\n",
    "    enron_data[\"SKILLING JEFFREY K\"][\"bonus\"] = 5600000\n",
    "    \n",
    "\"\"\"\n",
    "\n",
    "import pickle\n",
    "\n",
    "enron_data = pickle.load(open(\"../final_project/final_project_dataset.pkl\", \"r\"))\n"
   ]
  },
  {
   "cell_type": "markdown",
   "metadata": {
    "collapsed": true
   },
   "source": [
    "## To get an idea of dataset"
   ]
  },
  {
   "cell_type": "markdown",
   "metadata": {},
   "source": [
    "The aggregated _Enron email + financial dataset_ is stored in a dictionary, where each key in the dictionary is a person’s name and the value is a dictionary containing all the features of that person.   \n",
    "\n",
    "i.e., it is  nested dictionary."
   ]
  },
  {
   "cell_type": "code",
   "execution_count": 2,
   "metadata": {},
   "outputs": [
    {
     "data": {
      "text/plain": [
       "dict"
      ]
     },
     "execution_count": 2,
     "metadata": {},
     "output_type": "execute_result"
    }
   ],
   "source": [
    "type(enron_data)"
   ]
  },
  {
   "cell_type": "code",
   "execution_count": 3,
   "metadata": {},
   "outputs": [
    {
     "name": "stdout",
     "output_type": "stream",
     "text": [
      "('METTS MARK',\n",
      " {'bonus': 600000,\n",
      "  'deferral_payments': 'NaN',\n",
      "  'deferred_income': 'NaN',\n",
      "  'director_fees': 'NaN',\n",
      "  'email_address': 'mark.metts@enron.com',\n",
      "  'exercised_stock_options': 'NaN',\n",
      "  'expenses': 94299,\n",
      "  'from_messages': 29,\n",
      "  'from_poi_to_this_person': 38,\n",
      "  'from_this_person_to_poi': 1,\n",
      "  'loan_advances': 'NaN',\n",
      "  'long_term_incentive': 'NaN',\n",
      "  'other': 1740,\n",
      "  'poi': False,\n",
      "  'restricted_stock': 585062,\n",
      "  'restricted_stock_deferred': 'NaN',\n",
      "  'salary': 365788,\n",
      "  'shared_receipt_with_poi': 702,\n",
      "  'to_messages': 807,\n",
      "  'total_payments': 1061827,\n",
      "  'total_stock_value': 585062})\n",
      "\n",
      "\n",
      "('BAXTER JOHN C',\n",
      " {'bonus': 1200000,\n",
      "  'deferral_payments': 1295738,\n",
      "  'deferred_income': -1386055,\n",
      "  'director_fees': 'NaN',\n",
      "  'email_address': 'NaN',\n",
      "  'exercised_stock_options': 6680544,\n",
      "  'expenses': 11200,\n",
      "  'from_messages': 'NaN',\n",
      "  'from_poi_to_this_person': 'NaN',\n",
      "  'from_this_person_to_poi': 'NaN',\n",
      "  'loan_advances': 'NaN',\n",
      "  'long_term_incentive': 1586055,\n",
      "  'other': 2660303,\n",
      "  'poi': False,\n",
      "  'restricted_stock': 3942714,\n",
      "  'restricted_stock_deferred': 'NaN',\n",
      "  'salary': 267102,\n",
      "  'shared_receipt_with_poi': 'NaN',\n",
      "  'to_messages': 'NaN',\n",
      "  'total_payments': 5634343,\n",
      "  'total_stock_value': 10623258})\n",
      "\n",
      "\n",
      "('ELLIOTT STEVEN',\n",
      " {'bonus': 350000,\n",
      "  'deferral_payments': 'NaN',\n",
      "  'deferred_income': -400729,\n",
      "  'director_fees': 'NaN',\n",
      "  'email_address': 'steven.elliott@enron.com',\n",
      "  'exercised_stock_options': 4890344,\n",
      "  'expenses': 78552,\n",
      "  'from_messages': 'NaN',\n",
      "  'from_poi_to_this_person': 'NaN',\n",
      "  'from_this_person_to_poi': 'NaN',\n",
      "  'loan_advances': 'NaN',\n",
      "  'long_term_incentive': 'NaN',\n",
      "  'other': 12961,\n",
      "  'poi': False,\n",
      "  'restricted_stock': 1788391,\n",
      "  'restricted_stock_deferred': 'NaN',\n",
      "  'salary': 170941,\n",
      "  'shared_receipt_with_poi': 'NaN',\n",
      "  'to_messages': 'NaN',\n",
      "  'total_payments': 211725,\n",
      "  'total_stock_value': 6678735})\n",
      "\n",
      "\n"
     ]
    }
   ],
   "source": [
    "from pprint import pprint\n",
    "c = 0\n",
    "for i in enron_data.items():\n",
    "    if c < 3:\n",
    "        c += 1\n",
    "        pprint(i)\n",
    "        print('\\n')\n",
    "    else:\n",
    "        break\n",
    "    "
   ]
  },
  {
   "cell_type": "markdown",
   "metadata": {},
   "source": [
    " # Number of data points(people) in the dataset"
   ]
  },
  {
   "cell_type": "code",
   "execution_count": 4,
   "metadata": {},
   "outputs": [
    {
     "data": {
      "text/plain": [
       "146"
      ]
     },
     "execution_count": 4,
     "metadata": {},
     "output_type": "execute_result"
    }
   ],
   "source": [
    "len(enron_data) "
   ]
  },
  {
   "cell_type": "code",
   "execution_count": 5,
   "metadata": {},
   "outputs": [
    {
     "data": {
      "text/plain": [
       "146"
      ]
     },
     "execution_count": 5,
     "metadata": {},
     "output_type": "execute_result"
    }
   ],
   "source": [
    "len(enron_data.keys())"
   ]
  },
  {
   "cell_type": "code",
   "execution_count": 6,
   "metadata": {},
   "outputs": [
    {
     "data": {
      "text/plain": [
       "146"
      ]
     },
     "execution_count": 6,
     "metadata": {},
     "output_type": "execute_result"
    }
   ],
   "source": [
    "len(enron_data.values())"
   ]
  },
  {
   "cell_type": "markdown",
   "metadata": {},
   "source": [
    "## to find the number of Features in the Enron Dataset"
   ]
  },
  {
   "cell_type": "code",
   "execution_count": 7,
   "metadata": {},
   "outputs": [
    {
     "data": {
      "text/plain": [
       "21"
      ]
     },
     "execution_count": 7,
     "metadata": {},
     "output_type": "execute_result"
    }
   ],
   "source": [
    "len(enron_data['METTS MARK']) "
   ]
  },
  {
   "cell_type": "markdown",
   "metadata": {},
   "source": [
    "## Finding numer of POIs(Person of Interest) in the Enron Data"
   ]
  },
  {
   "cell_type": "code",
   "execution_count": 8,
   "metadata": {},
   "outputs": [
    {
     "data": {
      "text/plain": [
       "18"
      ]
     },
     "execution_count": 8,
     "metadata": {},
     "output_type": "execute_result"
    }
   ],
   "source": [
    "poi_count = 0\n",
    "for key1 in enron_data.keys():\n",
    "    if enron_data[key1]['poi'] == True:\n",
    "        poi_count += 1\n",
    "\n",
    "poi_count"
   ]
  },
  {
   "cell_type": "markdown",
   "metadata": {},
   "source": [
    "# Querying the dataset\n",
    "\n",
    "Like any dict of dicts, individual people/features can be accessed like so:\n",
    "\n",
    "enron_data[\"LASTNAME FIRSTNAME\"][\"feature_name\"]\n",
    "\n",
    "or\n",
    "\n",
    "enron_data[\"LASTNAME FIRSTNAME MIDDLEINITIAL\"][\"feature_name\"]"
   ]
  },
  {
   "cell_type": "markdown",
   "metadata": {},
   "source": [
    "### total value of the stock belonging to James Prentice"
   ]
  },
  {
   "cell_type": "code",
   "execution_count": 9,
   "metadata": {},
   "outputs": [
    {
     "data": {
      "text/plain": [
       "1095040"
      ]
     },
     "execution_count": 9,
     "metadata": {},
     "output_type": "execute_result"
    }
   ],
   "source": [
    "enron_data['PRENTICE JAMES']['total_stock_value']"
   ]
  },
  {
   "cell_type": "markdown",
   "metadata": {},
   "source": [
    "### How many email messages do we have from Wesley Colwell to persons of interest?"
   ]
  },
  {
   "cell_type": "code",
   "execution_count": 10,
   "metadata": {},
   "outputs": [
    {
     "data": {
      "text/plain": [
       "11"
      ]
     },
     "execution_count": 10,
     "metadata": {},
     "output_type": "execute_result"
    }
   ],
   "source": [
    "enron_data['COLWELL WESLEY']['from_this_person_to_poi']"
   ]
  },
  {
   "cell_type": "markdown",
   "metadata": {},
   "source": [
    "### What’s the value of stock options exercised by Jeffrey K Skilling?"
   ]
  },
  {
   "cell_type": "code",
   "execution_count": 11,
   "metadata": {},
   "outputs": [
    {
     "data": {
      "text/plain": [
       "19250000"
      ]
     },
     "execution_count": 11,
     "metadata": {},
     "output_type": "execute_result"
    }
   ],
   "source": [
    "enron_data['SKILLING JEFFREY K']['exercised_stock_options']"
   ]
  },
  {
   "cell_type": "markdown",
   "metadata": {},
   "source": [
    "## 3 Biggest frauds of Enron scandal"
   ]
  },
  {
   "cell_type": "code",
   "execution_count": 12,
   "metadata": {},
   "outputs": [
    {
     "data": {
      "text/plain": [
       "{'bonus': 7000000,\n",
       " 'deferral_payments': 202911,\n",
       " 'deferred_income': -300000,\n",
       " 'director_fees': 'NaN',\n",
       " 'email_address': 'kenneth.lay@enron.com',\n",
       " 'exercised_stock_options': 34348384,\n",
       " 'expenses': 99832,\n",
       " 'from_messages': 36,\n",
       " 'from_poi_to_this_person': 123,\n",
       " 'from_this_person_to_poi': 16,\n",
       " 'loan_advances': 81525000,\n",
       " 'long_term_incentive': 3600000,\n",
       " 'other': 10359729,\n",
       " 'poi': True,\n",
       " 'restricted_stock': 14761694,\n",
       " 'restricted_stock_deferred': 'NaN',\n",
       " 'salary': 1072321,\n",
       " 'shared_receipt_with_poi': 2411,\n",
       " 'to_messages': 4273,\n",
       " 'total_payments': 103559793,\n",
       " 'total_stock_value': 49110078}"
      ]
     },
     "execution_count": 12,
     "metadata": {},
     "output_type": "execute_result"
    }
   ],
   "source": [
    "enron_data['LAY KENNETH L']"
   ]
  },
  {
   "cell_type": "code",
   "execution_count": 13,
   "metadata": {},
   "outputs": [
    {
     "data": {
      "text/plain": [
       "{'bonus': 5600000,\n",
       " 'deferral_payments': 'NaN',\n",
       " 'deferred_income': 'NaN',\n",
       " 'director_fees': 'NaN',\n",
       " 'email_address': 'jeff.skilling@enron.com',\n",
       " 'exercised_stock_options': 19250000,\n",
       " 'expenses': 29336,\n",
       " 'from_messages': 108,\n",
       " 'from_poi_to_this_person': 88,\n",
       " 'from_this_person_to_poi': 30,\n",
       " 'loan_advances': 'NaN',\n",
       " 'long_term_incentive': 1920000,\n",
       " 'other': 22122,\n",
       " 'poi': True,\n",
       " 'restricted_stock': 6843672,\n",
       " 'restricted_stock_deferred': 'NaN',\n",
       " 'salary': 1111258,\n",
       " 'shared_receipt_with_poi': 2042,\n",
       " 'to_messages': 3627,\n",
       " 'total_payments': 8682716,\n",
       " 'total_stock_value': 26093672}"
      ]
     },
     "execution_count": 13,
     "metadata": {},
     "output_type": "execute_result"
    }
   ],
   "source": [
    "enron_data['SKILLING JEFFREY K']"
   ]
  },
  {
   "cell_type": "code",
   "execution_count": 14,
   "metadata": {},
   "outputs": [
    {
     "data": {
      "text/plain": [
       "{'bonus': 1300000,\n",
       " 'deferral_payments': 'NaN',\n",
       " 'deferred_income': -1386055,\n",
       " 'director_fees': 'NaN',\n",
       " 'email_address': 'andrew.fastow@enron.com',\n",
       " 'exercised_stock_options': 'NaN',\n",
       " 'expenses': 55921,\n",
       " 'from_messages': 'NaN',\n",
       " 'from_poi_to_this_person': 'NaN',\n",
       " 'from_this_person_to_poi': 'NaN',\n",
       " 'loan_advances': 'NaN',\n",
       " 'long_term_incentive': 1736055,\n",
       " 'other': 277464,\n",
       " 'poi': True,\n",
       " 'restricted_stock': 1794412,\n",
       " 'restricted_stock_deferred': 'NaN',\n",
       " 'salary': 440698,\n",
       " 'shared_receipt_with_poi': 'NaN',\n",
       " 'to_messages': 'NaN',\n",
       " 'total_payments': 2424083,\n",
       " 'total_stock_value': 1794412}"
      ]
     },
     "execution_count": 14,
     "metadata": {},
     "output_type": "execute_result"
    }
   ],
   "source": [
    "enron_data['FASTOW ANDREW S']"
   ]
  },
  {
   "cell_type": "markdown",
   "metadata": {},
   "source": [
    "### How many folks in this dataset have a quantified salary?"
   ]
  },
  {
   "cell_type": "code",
   "execution_count": 15,
   "metadata": {},
   "outputs": [
    {
     "data": {
      "text/plain": [
       "95"
      ]
     },
     "execution_count": 15,
     "metadata": {},
     "output_type": "execute_result"
    }
   ],
   "source": [
    "count_qsal = 0\n",
    "for k in enron_data.keys():\n",
    "    if enron_data[k]['salary'] != 'NaN':\n",
    "        count_qsal += 1\n",
    "\n",
    "count_qsal"
   ]
  },
  {
   "cell_type": "markdown",
   "metadata": {},
   "source": [
    "### How many folks in this dataset have a known email address?"
   ]
  },
  {
   "cell_type": "code",
   "execution_count": 16,
   "metadata": {},
   "outputs": [
    {
     "data": {
      "text/plain": [
       "111"
      ]
     },
     "execution_count": 16,
     "metadata": {},
     "output_type": "execute_result"
    }
   ],
   "source": [
    "count_email = 0\n",
    "for k in enron_data.keys():\n",
    "    if enron_data[k]['email_address'] != 'NaN':\n",
    "        count_email += 1\n",
    "\n",
    "count_email"
   ]
  },
  {
   "cell_type": "markdown",
   "metadata": {},
   "source": [
    "### How many people in the E+F dataset (as it currently exists) have “NaN” for their total payments? What percentage of people in the dataset as a whole is this?"
   ]
  },
  {
   "cell_type": "code",
   "execution_count": 17,
   "metadata": {},
   "outputs": [
    {
     "name": "stdout",
     "output_type": "stream",
     "text": [
      "percentage of people having NaN for their total payments :  14.3835616438\n"
     ]
    }
   ],
   "source": [
    "c_NaN_total_payment = 0\n",
    "for k in enron_data.keys():\n",
    "    if enron_data[k]['total_payments'] == 'NaN':\n",
    "        c_NaN_total_payment += 1\n",
    "\n",
    "from __future__ import division   ## If this is not done 21/146 returns a zero\n",
    "percent = (c_NaN_total_payment/len(enron_data))*100\n",
    "print 'percentage of people having NaN for their total payments : ', percent "
   ]
  },
  {
   "cell_type": "markdown",
   "metadata": {},
   "source": [
    "### How many POIs in the E+F dataset have “NaN” for their total payments? What percentage of POI’s as a whole is this?"
   ]
  },
  {
   "cell_type": "code",
   "execution_count": 18,
   "metadata": {},
   "outputs": [
    {
     "data": {
      "text/plain": [
       "0"
      ]
     },
     "execution_count": 18,
     "metadata": {},
     "output_type": "execute_result"
    }
   ],
   "source": [
    "poi_count_NaN_TP = 0\n",
    "for k in enron_data.keys():\n",
    "    if enron_data[k]['poi']==True and enron_data[k]['total_payments']=='NaN':\n",
    "        poi_count_NaN_TP += 1\n",
    "\n",
    "poi_count_NaN_TP"
   ]
  },
  {
   "cell_type": "markdown",
   "metadata": {},
   "source": [
    "##### 0% of POI's don't have total_payments filled."
   ]
  },
  {
   "cell_type": "code",
   "execution_count": 19,
   "metadata": {},
   "outputs": [
    {
     "name": "stdout",
     "output_type": "stream",
     "text": [
      "{'salary': 243293, 'to_messages': 1045, 'deferral_payments': 'NaN', 'total_payments': 288682, 'exercised_stock_options': 5538001, 'bonus': 1500000, 'restricted_stock': 853064, 'shared_receipt_with_poi': 1035, 'restricted_stock_deferred': 'NaN', 'total_stock_value': 6391065, 'expenses': 34039, 'loan_advances': 'NaN', 'from_messages': 32, 'other': 11350, 'from_this_person_to_poi': 21, 'poi': True, 'director_fees': 'NaN', 'deferred_income': -3117011, 'long_term_incentive': 1617011, 'email_address': 'kevin.hannon@enron.com', 'from_poi_to_this_person': 32}\n",
      "\n",
      "\n",
      "{'salary': 288542, 'to_messages': 1758, 'deferral_payments': 27610, 'total_payments': 1490344, 'exercised_stock_options': 'NaN', 'bonus': 1200000, 'restricted_stock': 698242, 'shared_receipt_with_poi': 1132, 'restricted_stock_deferred': 'NaN', 'total_stock_value': 698242, 'expenses': 16514, 'loan_advances': 'NaN', 'from_messages': 40, 'other': 101740, 'from_this_person_to_poi': 11, 'poi': True, 'director_fees': 'NaN', 'deferred_income': -144062, 'long_term_incentive': 'NaN', 'email_address': 'wes.colwell@enron.com', 'from_poi_to_this_person': 240}\n",
      "\n",
      "\n",
      "{'salary': 249201, 'to_messages': 1328, 'deferral_payments': 214678, 'total_payments': 1099100, 'exercised_stock_options': 1635238, 'bonus': 700000, 'restricted_stock': 283649, 'shared_receipt_with_poi': 1258, 'restricted_stock_deferred': 'NaN', 'total_stock_value': 1918887, 'expenses': 33271, 'loan_advances': 'NaN', 'from_messages': 82, 'other': 1950, 'from_this_person_to_poi': 48, 'poi': True, 'director_fees': 'NaN', 'deferred_income': -100000, 'long_term_incentive': 'NaN', 'email_address': 'paula.rieker@enron.com', 'from_poi_to_this_person': 35}\n",
      "\n",
      "\n"
     ]
    }
   ],
   "source": [
    "c = 0\n",
    "for k in enron_data.keys():\n",
    "        if enron_data[k]['poi']==True and c < 3:\n",
    "            print enron_data[k]\n",
    "            print '\\n'\n",
    "            c += 1\n",
    "    "
   ]
  },
  {
   "cell_type": "markdown",
   "metadata": {},
   "source": [
    "## If a machine learning algorithm were to use total_payments as a feature, would you expect it to associate a “NaN” value with POIs or non-POIs?\n",
    "\n",
    "ANS : non-POIs  \n",
    "No training points would have \"NaN\" for total_payments when the class label is \"POI\"\n",
    "\n",
    "******\n"
   ]
  },
  {
   "cell_type": "markdown",
   "metadata": {},
   "source": [
    "## If you added in, say, 10 more data points which were all POI’s, and put “NaN” for the total payments for those folks, the numbers you just calculated would change. \n",
    "What is the new number of people of the dataset? What is the new number of folks with “NaN” for total payments?"
   ]
  },
  {
   "cell_type": "code",
   "execution_count": 20,
   "metadata": {},
   "outputs": [
    {
     "data": {
      "text/plain": [
       "156"
      ]
     },
     "execution_count": 20,
     "metadata": {},
     "output_type": "execute_result"
    }
   ],
   "source": [
    "len(enron_data)+10"
   ]
  },
  {
   "cell_type": "code",
   "execution_count": 21,
   "metadata": {},
   "outputs": [
    {
     "data": {
      "text/plain": [
       "31"
      ]
     },
     "execution_count": 21,
     "metadata": {},
     "output_type": "execute_result"
    }
   ],
   "source": [
    "count_total_payment = 0\n",
    "for k in enron_data.keys():\n",
    "    if enron_data[k]['total_payments'] == 'NaN':\n",
    "        count_total_payment += 1\n",
    "        \n",
    "count_total_payment + 10"
   ]
  },
  {
   "cell_type": "markdown",
   "metadata": {},
   "source": [
    "## What is the new number of POI’s in the dataset? What is the new number of POI’s with NaN for total_payments?"
   ]
  },
  {
   "cell_type": "code",
   "execution_count": 22,
   "metadata": {},
   "outputs": [
    {
     "data": {
      "text/plain": [
       "28"
      ]
     },
     "execution_count": 22,
     "metadata": {},
     "output_type": "execute_result"
    }
   ],
   "source": [
    "poi_count + 10"
   ]
  },
  {
   "cell_type": "markdown",
   "metadata": {},
   "source": [
    "new number of POI’s with NaN for total_payments = 10"
   ]
  },
  {
   "cell_type": "markdown",
   "metadata": {},
   "source": [
    "## Once the new data points are added, do you think a supervised classification algorithm might interpret “NaN” for total_payments as a clue that someone is a POI?\n",
    "\n",
    "##### Yes"
   ]
  },
  {
   "cell_type": "markdown",
   "metadata": {},
   "source": [
    "# Mixing Data Sources\n",
    "\n",
    "Adding in the new POI’s in this example, none of whom we have financial information for, has introduced a subtle problem, that our lack of financial information about them can be picked up by an algorithm as a clue that they’re POIs. Another way to think about this is that there’s now a difference in how we generated the data for our two classes--non-POIs all come from the financial spreadsheet, while many POIs get added in by hand afterwards. That difference can trick us into thinking we have better performance than we do--suppose you use your POI detector to decide whether a new, unseen person is a POI, and that person isn’t on the spreadsheet. Then all their financial data would contain “NaN” but the person is very likely not a POI (there are many more non-POIs than POIs in the world, and even at Enron)--you’d be likely to accidentally identify them as a POI, though!\n",
    "\n",
    "This goes to say that, when generating or augmenting a dataset, you should be exceptionally careful if your data are coming from different sources for different classes. It can easily lead to the type of bias or mistake that we showed here. There are ways to deal with this, for example, you wouldn’t have to worry about this problem if you used only email data--in that case, discrepancies in the financial data wouldn’t matter because financial features aren’t being used. There are also more sophisticated ways of estimating how much of an effect these biases can have on your final answer; those are beyond the scope of this course.\n",
    "\n",
    "## For now, the takeaway message is __to be very careful about introducing features that come from different sources depending on the class! It’s a classic way to accidentally introduce biases and mistakes__."
   ]
  },
  {
   "cell_type": "code",
   "execution_count": null,
   "metadata": {
    "collapsed": true
   },
   "outputs": [],
   "source": []
  }
 ],
 "metadata": {
  "kernelspec": {
   "display_name": "Python 2",
   "language": "python",
   "name": "python2"
  },
  "language_info": {
   "codemirror_mode": {
    "name": "ipython",
    "version": 2
   },
   "file_extension": ".py",
   "mimetype": "text/x-python",
   "name": "python",
   "nbconvert_exporter": "python",
   "pygments_lexer": "ipython2",
   "version": "2.7.14"
  }
 },
 "nbformat": 4,
 "nbformat_minor": 2
}
